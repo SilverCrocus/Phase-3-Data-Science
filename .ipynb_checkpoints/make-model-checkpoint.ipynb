{
 "cells": [
  {
   "cell_type": "markdown",
   "metadata": {
    "pycharm": {
     "name": "#%% md\n"
    }
   },
   "source": [
    "# Phase 3 Data Science Training Notebook"
   ]
  },
  {
   "cell_type": "code",
   "execution_count": 3,
   "metadata": {
    "pycharm": {
     "name": "#%%\n"
    }
   },
   "outputs": [],
   "source": [
    "import pandas as pd\n",
    "import numpy as np"
   ]
  },
  {
   "cell_type": "markdown",
   "metadata": {
    "pycharm": {
     "name": "#%% md\n"
    }
   },
   "source": [
    "## Exploratory Data Analysis"
   ]
  },
  {
   "cell_type": "code",
   "execution_count": 4,
   "metadata": {
    "pycharm": {
     "name": "#%%\n"
    }
   },
   "outputs": [],
   "source": [
    "# Assume tar.gz file to be extracted at project directory.\n",
    "def unpickle(file):\n",
    "    import pickle\n",
    "    with open(file, 'rb') as fo:\n",
    "        dict = pickle.load(fo, encoding='bytes')\n",
    "    return dict"
   ]
  },
  {
   "cell_type": "markdown",
   "metadata": {
    "pycharm": {
     "name": "#%% md\n"
    }
   },
   "source": [
    "# Data Processing"
   ]
  },
  {
   "cell_type": "code",
   "execution_count": 5,
   "metadata": {
    "pycharm": {
     "name": "#%%\n"
    }
   },
   "outputs": [],
   "source": [
    "train_x = np.random.randint(0,255,size=(10000,3,32,32))\n",
    "train_y = np.random.randint(0,255,size=(10000))\n",
    "\n",
    "test_x = np.random.randint(0,255,size=(1000,3,32,32))\n",
    "test_y = np.random.randint(0,255,size=(1000))"
   ]
  },
  {
   "cell_type": "markdown",
   "metadata": {
    "pycharm": {
     "name": "#%% md\n"
    }
   },
   "source": [
    "# Data Modelling"
   ]
  },
  {
   "cell_type": "code",
   "execution_count": 8,
   "metadata": {
    "pycharm": {
     "name": "#%%\n"
    }
   },
   "outputs": [
    {
     "ename": "ModuleNotFoundError",
     "evalue": "No module named 'tensorflow'",
     "output_type": "error",
     "traceback": [
      "\u001b[1;31m---------------------------------------------------------------------------\u001b[0m",
      "\u001b[1;31mModuleNotFoundError\u001b[0m                       Traceback (most recent call last)",
      "Input \u001b[1;32mIn [8]\u001b[0m, in \u001b[0;36m<cell line: 1>\u001b[1;34m()\u001b[0m\n\u001b[1;32m----> 1\u001b[0m \u001b[38;5;28;01mimport\u001b[39;00m \u001b[38;5;21;01mtensorflow\u001b[39;00m \u001b[38;5;28;01mas\u001b[39;00m \u001b[38;5;21;01mtf\u001b[39;00m\n\u001b[0;32m      2\u001b[0m \u001b[38;5;28;01mfrom\u001b[39;00m \u001b[38;5;21;01mtensorflow\u001b[39;00m\u001b[38;5;21;01m.\u001b[39;00m\u001b[38;5;21;01mkeras\u001b[39;00m \u001b[38;5;28;01mimport\u001b[39;00m Input, layers, Sequential, optimizers, losses, callbacks\n\u001b[0;32m      3\u001b[0m \u001b[38;5;28;01mfrom\u001b[39;00m \u001b[38;5;21;01mdatetime\u001b[39;00m \u001b[38;5;28;01mimport\u001b[39;00m datetime\n",
      "\u001b[1;31mModuleNotFoundError\u001b[0m: No module named 'tensorflow'"
     ]
    }
   ],
   "source": [
    "import tensorflow as tf\n",
    "from tensorflow.keras import Input, layers, Sequential, optimizers, losses, callbacks\n",
    "from datetime import datetime"
   ]
  },
  {
   "cell_type": "code",
   "execution_count": null,
   "metadata": {
    "pycharm": {
     "name": "#%%\n"
    }
   },
   "outputs": [],
   "source": [
    "def generateModel():\n",
    "    \"\"\"\n",
    "    Make a Keras Sequential Model.\n",
    "    Feel free to change the layout of the layers.\n",
    "\n",
    "    Read more about keras here: https://keras.io/api/\n",
    "    Tensorflow setup adapted here: https://www.tensorflow.org/tutorials/quickstart/beginner\n",
    "    \"\"\"\n",
    "    model = Sequential(name=\"Image_Recognition_Model\")\n",
    "    model.add(Input(shape=(3,32,32))) # Input layer.\n",
    "\n",
    "    model.add(layers.Rescaling(scale=1./255, name=\"Normaliser\")) # Example pre-processing layer.\n",
    "\n",
    "    model.add(layers.Dense(40, activation=\"relu\")) # Example Hidden Layer 1. Has 40 Nodes.\n",
    "    model.add(layers.Dense(25, activation=\"sigmoid\")) # Example Hidden Layer 2. Has 25 Nodes.\n",
    "    model.add(layers.Dense(15, activation=\"tanh\")) # Example Hidden Layer 3. Has 15 Nodes.\n",
    "\n",
    "    model.add(layers.Dense(1, activation=\"sigmoid\", name=\"Output_Probability\")) # Output layer.\n",
    "\n",
    "    model.compile(\n",
    "        optimizer=optimizers.SGD(learning_rate=0.01),\n",
    "        loss=losses.MeanAbsoluteError(),\n",
    "        metrics=['accuracy']\n",
    "    )\n",
    "\n",
    "    return model"
   ]
  },
  {
   "cell_type": "code",
   "execution_count": null,
   "metadata": {
    "pycharm": {
     "name": "#%%\n"
    }
   },
   "outputs": [],
   "source": [
    "model = generateModel()\n",
    "\n",
    "log_dir = \"output/logs/\" + datetime.now().strftime(\"%Y-%m-%d-%H:%M:%S\")\n",
    "\n",
    "# Callbacks for QoL.\n",
    "tensorboard_callback = callbacks.TensorBoard(log_dir=log_dir, histogram_freq=1)\n",
    "earlystop_callback = callbacks.EarlyStopping(monitor='val_loss', patience=25, restore_best_weights=True)\n",
    "\n",
    "model.fit(train_x, train_y,\n",
    "    validation_data=(test_x, test_y),\n",
    "    epochs=50000,\n",
    "    batch_size=1000, # Set this to a lower number if your computer spec is bad.\n",
    "    callbacks=[tensorboard_callback, earlystop_callback],\n",
    "    # verbose=0 # Uncomment this line to reduce the printing on console.\n",
    ")"
   ]
  },
  {
   "cell_type": "code",
   "execution_count": null,
   "metadata": {
    "pycharm": {
     "name": "#%%\n"
    }
   },
   "outputs": [],
   "source": [
    "model.save('output/my_model')"
   ]
  }
 ],
 "metadata": {
  "kernelspec": {
   "display_name": "Python 3 (ipykernel)",
   "language": "python",
   "name": "python3"
  },
  "language_info": {
   "codemirror_mode": {
    "name": "ipython",
    "version": 3
   },
   "file_extension": ".py",
   "mimetype": "text/x-python",
   "name": "python",
   "nbconvert_exporter": "python",
   "pygments_lexer": "ipython3",
   "version": "3.9.12"
  },
  "vscode": {
   "interpreter": {
    "hash": "d450ca4fd356079952654570e1db9e35f7ec0aec4b27f4f4fe1658fa5f9fcf39"
   }
  }
 },
 "nbformat": 4,
 "nbformat_minor": 2
}
